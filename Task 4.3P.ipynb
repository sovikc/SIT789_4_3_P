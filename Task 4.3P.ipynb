{
 "cells": [
  {
   "cell_type": "markdown",
   "metadata": {
    "id": "rdEKGrDIqSvh"
   },
   "source": [
    "# Task 4.3P: Build your own image recognition system – Group Task"
   ]
  },
  {
   "cell_type": "code",
   "execution_count": 1,
   "metadata": {
    "id": "VwSfiDZrsIMQ"
   },
   "outputs": [],
   "source": [
    "# Importing all the libraries...\n",
    "import numpy as np\n",
    "import cv2 as cv\n",
    "import os\n",
    "import matplotlib. pyplot as plt\n",
    "\n",
    "from sklearn.cluster import KMeans\n",
    "from sklearn.neighbors import KNeighborsClassifier\n",
    "from sklearn.metrics import classification_report,confusion_matrix\n",
    "from sklearn import svm\n",
    "from sklearn.ensemble import AdaBoostClassifier"
   ]
  },
  {
   "cell_type": "markdown",
   "metadata": {
    "id": "sLlUytzErUDH"
   },
   "source": [
    "## 1. Data collection and annotation"
   ]
  },
  {
   "cell_type": "code",
   "execution_count": 2,
   "metadata": {
    "id": "R5yZrokzpDQX"
   },
   "outputs": [],
   "source": [
    "tools = ['hammer', 'pliers', 'screw_driver', 'wrench']\n",
    "path = 'ToolImages/'\n",
    "\n",
    "def get_data(dir_name):\n",
    "    file_names = []\n",
    "    tool_labels = []\n",
    "    for i in range(0, len(tools)):\n",
    "        sub_path = path + dir_name + '/' + tools[i] + '/'\n",
    "        sub_file_names = [os.path.join(sub_path, f) for f in os.listdir(sub_path)]\n",
    "        sub_tool_labels = [i] * len(sub_file_names) #create a list of N elements, all are i\n",
    "        file_names += sub_file_names\n",
    "        tool_labels += sub_tool_labels\n",
    "    return (file_names, tool_labels)"
   ]
  },
  {
   "cell_type": "markdown",
   "metadata": {},
   "source": [
    "\"With this common function, we were able to create our three sets of data, as shown below: \""
   ]
  },
  {
   "cell_type": "code",
   "execution_count": 3,
   "metadata": {
    "colab": {
     "base_uri": "https://localhost:8080/",
     "height": 321
    },
    "id": "PDxjcJfNrTik",
    "outputId": "9556f20c-467d-4a8c-86d7-c4c1afa65bc1"
   },
   "outputs": [],
   "source": [
    "#Training Dataset...\n",
    "training_data = get_data('Train')\n",
    "training_file_names = training_data[0]\n",
    "training_tool_labels = training_data[1]"
   ]
  },
  {
   "cell_type": "code",
   "execution_count": 4,
   "metadata": {
    "id": "jHcbMJZGrTf-"
   },
   "outputs": [
    {
     "name": "stdout",
     "output_type": "stream",
     "text": [
      "['ToolImages/Train/hammer/000002.jpg', 'ToolImages/Train/hammer/000013.jpg', 'ToolImages/Train/hammer/000014.jpg', 'ToolImages/Train/hammer/000015.jpg', 'ToolImages/Train/hammer/000016.jpg', 'ToolImages/Train/hammer/000017.jpg', 'ToolImages/Train/hammer/000018.jpg', 'ToolImages/Train/hammer/000020.jpg', 'ToolImages/Train/hammer/000022.jpg', 'ToolImages/Train/hammer/000037.jpg', 'ToolImages/Train/hammer/000042.jpg', 'ToolImages/Train/hammer/000046.jpg', 'ToolImages/Train/hammer/000047.jpg', 'ToolImages/Train/hammer/000048.jpg', 'ToolImages/Train/hammer/000049.jpg', 'ToolImages/Train/hammer/000052.jpg', 'ToolImages/Train/hammer/000053.jpg', 'ToolImages/Train/hammer/000061.jpg', 'ToolImages/Train/hammer/000063.jpg', 'ToolImages/Train/hammer/000069.jpg', 'ToolImages/Train/hammer/000070.jpg', 'ToolImages/Train/hammer/000071.jpg', 'ToolImages/Train/hammer/000072.jpg', 'ToolImages/Train/hammer/000074.jpg', 'ToolImages/Train/hammer/000075.jpg', 'ToolImages/Train/hammer/000083.jpg', 'ToolImages/Train/hammer/000084.jpg', 'ToolImages/Train/hammer/000085.jpg', 'ToolImages/Train/hammer/000088.jpg', 'ToolImages/Train/hammer/000089.jpg', 'ToolImages/Train/hammer/000090.jpg', 'ToolImages/Train/hammer/000093.jpg', 'ToolImages/Train/hammer/000094.jpg', 'ToolImages/Train/hammer/000105.jpg', 'ToolImages/Train/hammer/000106.jpg', 'ToolImages/Train/hammer/000107.jpg', 'ToolImages/Train/hammer/000108.jpg', 'ToolImages/Train/hammer/000110.jpg', 'ToolImages/Train/hammer/000111.jpg', 'ToolImages/Train/hammer/000113.jpg', 'ToolImages/Train/hammer/000137.jpg', 'ToolImages/Train/hammer/000260.jpg', 'ToolImages/Train/hammer/000266.jpg', 'ToolImages/Train/hammer/000272.jpg', 'ToolImages/Train/pliers/000000.jpg', 'ToolImages/Train/pliers/000001.jpg', 'ToolImages/Train/pliers/000002.jpg', 'ToolImages/Train/pliers/000005.jpg', 'ToolImages/Train/pliers/000011.jpg', 'ToolImages/Train/pliers/000012.jpg', 'ToolImages/Train/pliers/000014.jpg', 'ToolImages/Train/pliers/000015.jpg', 'ToolImages/Train/pliers/000016.jpg', 'ToolImages/Train/pliers/000017.jpg', 'ToolImages/Train/pliers/000018.jpg', 'ToolImages/Train/pliers/000020.jpg', 'ToolImages/Train/pliers/000031.jpg', 'ToolImages/Train/pliers/000033.jpg', 'ToolImages/Train/pliers/000034.jpg', 'ToolImages/Train/pliers/000036.jpg', 'ToolImages/Train/pliers/000037.jpg', 'ToolImages/Train/pliers/000038.jpg', 'ToolImages/Train/pliers/000039.jpg', 'ToolImages/Train/pliers/000040.jpg', 'ToolImages/Train/pliers/000051.jpg', 'ToolImages/Train/pliers/000052.jpg', 'ToolImages/Train/pliers/000053.jpg', 'ToolImages/Train/pliers/000055.jpg', 'ToolImages/Train/pliers/000063.jpg', 'ToolImages/Train/pliers/000064.jpg', 'ToolImages/Train/pliers/000065.jpg', 'ToolImages/Train/pliers/000066.jpg', 'ToolImages/Train/pliers/000084.jpg', 'ToolImages/Train/pliers/000085.jpg', 'ToolImages/Train/pliers/000086 - Copy.jpg', 'ToolImages/Train/pliers/000086.jpg', 'ToolImages/Train/pliers/000087.jpg', 'ToolImages/Train/pliers/000088.jpg', 'ToolImages/Train/pliers/000089.jpg', 'ToolImages/Train/pliers/000096.jpg', 'ToolImages/Train/pliers/000105.jpg', 'ToolImages/Train/pliers/000115.jpg', 'ToolImages/Train/pliers/000116.jpg', 'ToolImages/Train/pliers/000120.jpg', 'ToolImages/Train/pliers/000123.jpg', 'ToolImages/Train/pliers/000124.jpg', 'ToolImages/Train/pliers/000125.jpg', 'ToolImages/Train/pliers/000126.jpg', 'ToolImages/Train/pliers/000142.jpg', 'ToolImages/Train/pliers/000143.jpg', 'ToolImages/Train/screw_driver/000006.jpg', 'ToolImages/Train/screw_driver/000007.jpg', 'ToolImages/Train/screw_driver/000008.jpg', 'ToolImages/Train/screw_driver/000009.jpg', 'ToolImages/Train/screw_driver/000010.jpg', 'ToolImages/Train/screw_driver/000013.jpg', 'ToolImages/Train/screw_driver/000017.jpg', 'ToolImages/Train/screw_driver/000019.jpg', 'ToolImages/Train/screw_driver/000028.jpg', 'ToolImages/Train/screw_driver/000029.jpg', 'ToolImages/Train/screw_driver/000031.jpg', 'ToolImages/Train/screw_driver/000032.jpg', 'ToolImages/Train/screw_driver/000033.jpg', 'ToolImages/Train/screw_driver/000038.jpg', 'ToolImages/Train/screw_driver/000039.jpg', 'ToolImages/Train/screw_driver/000040.jpg', 'ToolImages/Train/screw_driver/000047.jpg', 'ToolImages/Train/screw_driver/000048.jpg', 'ToolImages/Train/screw_driver/000049.jpg', 'ToolImages/Train/screw_driver/000050.jpg', 'ToolImages/Train/screw_driver/000051.jpg', 'ToolImages/Train/screw_driver/000052.jpg', 'ToolImages/Train/screw_driver/000053.jpg', 'ToolImages/Train/screw_driver/000054.jpg', 'ToolImages/Train/screw_driver/000061.jpg', 'ToolImages/Train/screw_driver/000066.jpg', 'ToolImages/Train/screw_driver/000069.jpg', 'ToolImages/Train/screw_driver/000070.jpg', 'ToolImages/Train/screw_driver/000071.jpg', 'ToolImages/Train/screw_driver/000073.jpg', 'ToolImages/Train/screw_driver/000082.jpg', 'ToolImages/Train/screw_driver/000083.jpg', 'ToolImages/Train/screw_driver/000110.jpg', 'ToolImages/Train/screw_driver/000111.jpg', 'ToolImages/Train/screw_driver/000117.jpg', 'ToolImages/Train/screw_driver/000118.jpg', 'ToolImages/Train/screw_driver/000120.jpg', 'ToolImages/Train/screw_driver/000123.jpg', 'ToolImages/Train/screw_driver/000124.jpg', 'ToolImages/Train/screw_driver/000144.jpg', 'ToolImages/Train/screw_driver/000160.jpg', 'ToolImages/Train/screw_driver/000179.jpg', 'ToolImages/Train/screw_driver/000180.jpg', 'ToolImages/Train/screw_driver/000182.jpg', 'ToolImages/Train/screw_driver/000183.jpg', 'ToolImages/Train/screw_driver/000184.jpg', 'ToolImages/Train/screw_driver/000187.jpg', 'ToolImages/Train/screw_driver/000189.jpg', 'ToolImages/Train/wrench/000000.jpg', 'ToolImages/Train/wrench/000002.jpg', 'ToolImages/Train/wrench/000006.jpg', 'ToolImages/Train/wrench/000009.jpg', 'ToolImages/Train/wrench/000010.jpg', 'ToolImages/Train/wrench/000022.jpg', 'ToolImages/Train/wrench/000023.jpg', 'ToolImages/Train/wrench/000027.jpg', 'ToolImages/Train/wrench/000035.jpg', 'ToolImages/Train/wrench/000041.jpg', 'ToolImages/Train/wrench/000042.jpg', 'ToolImages/Train/wrench/000043.jpg', 'ToolImages/Train/wrench/000045.jpg', 'ToolImages/Train/wrench/000048.jpg', 'ToolImages/Train/wrench/000050.jpg', 'ToolImages/Train/wrench/000051.jpg', 'ToolImages/Train/wrench/000052.jpg', 'ToolImages/Train/wrench/000056.jpg', 'ToolImages/Train/wrench/000057.jpg', 'ToolImages/Train/wrench/000059.jpg', 'ToolImages/Train/wrench/000066.jpg', 'ToolImages/Train/wrench/000071.jpg', 'ToolImages/Train/wrench/000075.jpg', 'ToolImages/Train/wrench/000076.jpg', 'ToolImages/Train/wrench/000077.jpg', 'ToolImages/Train/wrench/000083.jpg', 'ToolImages/Train/wrench/000084.jpg', 'ToolImages/Train/wrench/000085.jpg', 'ToolImages/Train/wrench/000087.jpg', 'ToolImages/Train/wrench/000091.jpg', 'ToolImages/Train/wrench/000096.jpg', 'ToolImages/Train/wrench/000105.jpg', 'ToolImages/Train/wrench/000111.jpg', 'ToolImages/Train/wrench/000112.jpg', 'ToolImages/Train/wrench/000113.jpg', 'ToolImages/Train/wrench/000116.jpg', 'ToolImages/Train/wrench/000120.jpg', 'ToolImages/Train/wrench/000128.jpg', 'ToolImages/Train/wrench/000130.jpg', 'ToolImages/Train/wrench/000131.jpg', 'ToolImages/Train/wrench/000135.jpg', 'ToolImages/Train/wrench/000138.jpg', 'ToolImages/Train/wrench/000149.jpg', 'ToolImages/Train/wrench/000152.jpg', 'ToolImages/Train/wrench/000158.jpg', 'ToolImages/Train/wrench/000159.jpg', 'ToolImages/Train/wrench/000161.jpg', 'ToolImages/Train/wrench/000182.jpg', 'ToolImages/Train/wrench/000187.jpg', 'ToolImages/Train/wrench/000196.jpg', 'ToolImages/Train/wrench/000200.jpg', 'ToolImages/Train/wrench/000244.jpg', 'ToolImages/Train/wrench/000367.jpg', 'ToolImages/Train/wrench/000383.jpg']\n"
     ]
    }
   ],
   "source": [
    "print(training_file_names)"
   ]
  },
  {
   "cell_type": "code",
   "execution_count": 5,
   "metadata": {},
   "outputs": [],
   "source": [
    "#Validation Dataset...\n",
    "validation_data = get_data('Val')\n",
    "val_file_names = validation_data[0]\n",
    "val_tool_labels = validation_data[1]"
   ]
  },
  {
   "cell_type": "code",
   "execution_count": 6,
   "metadata": {},
   "outputs": [
    {
     "name": "stdout",
     "output_type": "stream",
     "text": [
      "['ToolImages/Val/hammer/000003.jpg', 'ToolImages/Val/hammer/000005.jpg', 'ToolImages/Val/hammer/000007.jpg', 'ToolImages/Val/hammer/000008.jpg', 'ToolImages/Val/hammer/000011.jpg', 'ToolImages/Val/hammer/000025.jpg', 'ToolImages/Val/hammer/000027.jpg', 'ToolImages/Val/hammer/000029.jpg', 'ToolImages/Val/hammer/000034.jpg', 'ToolImages/Val/hammer/000035.jpg', 'ToolImages/Val/hammer/000054.jpg', 'ToolImages/Val/hammer/000055.jpg', 'ToolImages/Val/hammer/000056.jpg', 'ToolImages/Val/hammer/000057.jpg', 'ToolImages/Val/hammer/000058.jpg', 'ToolImages/Val/hammer/000076.jpg', 'ToolImages/Val/hammer/000077.jpg', 'ToolImages/Val/hammer/000079.jpg', 'ToolImages/Val/hammer/000080.jpg', 'ToolImages/Val/hammer/000081.jpg', 'ToolImages/Val/hammer/000095.jpg', 'ToolImages/Val/hammer/000097.jpg', 'ToolImages/Val/hammer/000099.jpg', 'ToolImages/Val/hammer/000100.jpg', 'ToolImages/Val/hammer/000104.jpg', 'ToolImages/Val/hammer/000141.jpg', 'ToolImages/Val/hammer/000151.jpg', 'ToolImages/Val/hammer/000195.jpg', 'ToolImages/Val/hammer/000196.jpg', 'ToolImages/Val/hammer/000201.jpg', 'ToolImages/Val/pliers/000006.jpg', 'ToolImages/Val/pliers/000007.jpg', 'ToolImages/Val/pliers/000008.jpg', 'ToolImages/Val/pliers/000009.jpg', 'ToolImages/Val/pliers/000010.jpg', 'ToolImages/Val/pliers/000025.jpg', 'ToolImages/Val/pliers/000027.jpg', 'ToolImages/Val/pliers/000028.jpg', 'ToolImages/Val/pliers/000029.jpg', 'ToolImages/Val/pliers/000030.jpg', 'ToolImages/Val/pliers/000041.jpg', 'ToolImages/Val/pliers/000043.jpg', 'ToolImages/Val/pliers/000044.jpg', 'ToolImages/Val/pliers/000047.jpg', 'ToolImages/Val/pliers/000048.jpg', 'ToolImages/Val/pliers/000068.jpg', 'ToolImages/Val/pliers/000069.jpg', 'ToolImages/Val/pliers/000070.jpg', 'ToolImages/Val/pliers/000071.jpg', 'ToolImages/Val/pliers/000083.jpg', 'ToolImages/Val/pliers/000097.jpg', 'ToolImages/Val/pliers/000098.jpg', 'ToolImages/Val/pliers/000099.jpg', 'ToolImages/Val/pliers/000101.jpg', 'ToolImages/Val/pliers/000103.jpg', 'ToolImages/Val/pliers/000134.jpg', 'ToolImages/Val/pliers/000135.jpg', 'ToolImages/Val/pliers/000136.jpg', 'ToolImages/Val/pliers/000140.jpg', 'ToolImages/Val/pliers/000141.jpg', 'ToolImages/Val/screw_driver/000000.jpg', 'ToolImages/Val/screw_driver/000001.jpg', 'ToolImages/Val/screw_driver/000002.jpg', 'ToolImages/Val/screw_driver/000004.jpg', 'ToolImages/Val/screw_driver/000005.jpg', 'ToolImages/Val/screw_driver/000020.jpg', 'ToolImages/Val/screw_driver/000023.jpg', 'ToolImages/Val/screw_driver/000025.jpg', 'ToolImages/Val/screw_driver/000026.jpg', 'ToolImages/Val/screw_driver/000027.jpg', 'ToolImages/Val/screw_driver/000041.jpg', 'ToolImages/Val/screw_driver/000042.jpg', 'ToolImages/Val/screw_driver/000043.jpg', 'ToolImages/Val/screw_driver/000044.jpg', 'ToolImages/Val/screw_driver/000045.jpg', 'ToolImages/Val/screw_driver/000055.jpg', 'ToolImages/Val/screw_driver/000056.jpg', 'ToolImages/Val/screw_driver/000057.jpg', 'ToolImages/Val/screw_driver/000058.jpg', 'ToolImages/Val/screw_driver/000060.jpg', 'ToolImages/Val/screw_driver/000084.jpg', 'ToolImages/Val/screw_driver/000089.jpg', 'ToolImages/Val/screw_driver/000090.jpg', 'ToolImages/Val/screw_driver/000093.jpg', 'ToolImages/Val/screw_driver/000095.jpg', 'ToolImages/Val/screw_driver/000145.jpg', 'ToolImages/Val/screw_driver/000146.jpg', 'ToolImages/Val/screw_driver/000149.jpg', 'ToolImages/Val/screw_driver/000155.jpg', 'ToolImages/Val/screw_driver/000159.jpg', 'ToolImages/Val/wrench/000005.jpg', 'ToolImages/Val/wrench/000021.jpg', 'ToolImages/Val/wrench/000026.jpg', 'ToolImages/Val/wrench/000031.jpg', 'ToolImages/Val/wrench/000032.jpg', 'ToolImages/Val/wrench/000036.jpg', 'ToolImages/Val/wrench/000055.jpg', 'ToolImages/Val/wrench/000069.jpg', 'ToolImages/Val/wrench/000086.jpg', 'ToolImages/Val/wrench/000088.jpg', 'ToolImages/Val/wrench/000098.jpg', 'ToolImages/Val/wrench/000118.jpg', 'ToolImages/Val/wrench/000125.jpg', 'ToolImages/Val/wrench/000132.jpg', 'ToolImages/Val/wrench/000133.jpg', 'ToolImages/Val/wrench/000137.jpg', 'ToolImages/Val/wrench/000146.jpg', 'ToolImages/Val/wrench/000147.jpg', 'ToolImages/Val/wrench/000148.jpg', 'ToolImages/Val/wrench/000156.jpg', 'ToolImages/Val/wrench/000162.jpg', 'ToolImages/Val/wrench/000164.jpg', 'ToolImages/Val/wrench/000168.jpg', 'ToolImages/Val/wrench/000173.jpg', 'ToolImages/Val/wrench/000174.jpg', 'ToolImages/Val/wrench/000185.jpg', 'ToolImages/Val/wrench/000193.jpg', 'ToolImages/Val/wrench/000245.jpg', 'ToolImages/Val/wrench/000261.jpg', 'ToolImages/Val/wrench/000324.jpg']\n"
     ]
    }
   ],
   "source": [
    "print(val_file_names)"
   ]
  },
  {
   "cell_type": "code",
   "execution_count": 7,
   "metadata": {
    "id": "_tqEWojTrTdc"
   },
   "outputs": [],
   "source": [
    "#Testing Dataset...\n",
    "testing_data = get_data('Test')\n",
    "test_file_names = testing_data[0]\n",
    "test_tool_labels = testing_data[1]"
   ]
  },
  {
   "cell_type": "code",
   "execution_count": 8,
   "metadata": {
    "id": "AIRMef8wrTbH"
   },
   "outputs": [
    {
     "name": "stdout",
     "output_type": "stream",
     "text": [
      "['ToolImages/Test/hammer/0000273.jpg', 'ToolImages/Test/hammer/000117.jpg', 'ToolImages/Test/hammer/000118.jpg', 'ToolImages/Test/hammer/000120.jpg', 'ToolImages/Test/hammer/000121.jpg', 'ToolImages/Test/hammer/000122.jpg', 'ToolImages/Test/hammer/000126.jpg', 'ToolImages/Test/hammer/000127.jpg', 'ToolImages/Test/hammer/000129.jpg', 'ToolImages/Test/hammer/000134.jpg', 'ToolImages/Test/hammer/000135.jpg', 'ToolImages/Test/hammer/000153.jpg', 'ToolImages/Test/hammer/000154.jpg', 'ToolImages/Test/hammer/000155.jpg', 'ToolImages/Test/hammer/000167.jpg', 'ToolImages/Test/hammer/000169.jpg', 'ToolImages/Test/hammer/000170.jpg', 'ToolImages/Test/hammer/000176.jpg', 'ToolImages/Test/hammer/000177.jpg', 'ToolImages/Test/hammer/000187.jpg', 'ToolImages/Test/hammer/000192.jpg', 'ToolImages/Test/hammer/000203.jpg', 'ToolImages/Test/hammer/000205.jpg', 'ToolImages/Test/hammer/000208.jpg', 'ToolImages/Test/hammer/000209.jpg', 'ToolImages/Test/hammer/000211.jpg', 'ToolImages/Test/hammer/000214.jpg', 'ToolImages/Test/hammer/000215.jpg', 'ToolImages/Test/hammer/000217.jpg', 'ToolImages/Test/hammer/000218.jpg', 'ToolImages/Test/hammer/000223.jpg', 'ToolImages/Test/hammer/000274.jpg', 'ToolImages/Test/pliers/000056.jpg', 'ToolImages/Test/pliers/000057.jpg', 'ToolImages/Test/pliers/000059.jpg', 'ToolImages/Test/pliers/000061.jpg', 'ToolImages/Test/pliers/000062.jpg', 'ToolImages/Test/pliers/000072.jpg', 'ToolImages/Test/pliers/000073.jpg', 'ToolImages/Test/pliers/000074.jpg', 'ToolImages/Test/pliers/000075.jpg', 'ToolImages/Test/pliers/000076.jpg', 'ToolImages/Test/pliers/000090.jpg', 'ToolImages/Test/pliers/000091.jpg', 'ToolImages/Test/pliers/000092.jpg', 'ToolImages/Test/pliers/000093.jpg', 'ToolImages/Test/pliers/000094.jpg', 'ToolImages/Test/pliers/000095.jpg', 'ToolImages/Test/pliers/000107.jpg', 'ToolImages/Test/pliers/000108.jpg', 'ToolImages/Test/pliers/000109.jpg', 'ToolImages/Test/pliers/000110.jpg', 'ToolImages/Test/pliers/000112.jpg', 'ToolImages/Test/pliers/000113.jpg', 'ToolImages/Test/pliers/000127.jpg', 'ToolImages/Test/pliers/000129.jpg', 'ToolImages/Test/pliers/000130.jpg', 'ToolImages/Test/pliers/000131.jpg', 'ToolImages/Test/pliers/000132.jpg', 'ToolImages/Test/pliers/000133.jpg', 'ToolImages/Test/pliers/000144.jpg', 'ToolImages/Test/pliers/000145.jpg', 'ToolImages/Test/pliers/000147.jpg', 'ToolImages/Test/pliers/000149.jpg', 'ToolImages/Test/screw_driver/000062.jpg', 'ToolImages/Test/screw_driver/000063.jpg', 'ToolImages/Test/screw_driver/000065.jpg', 'ToolImages/Test/screw_driver/000074.jpg', 'ToolImages/Test/screw_driver/000076.jpg', 'ToolImages/Test/screw_driver/000077.jpg', 'ToolImages/Test/screw_driver/000078.jpg', 'ToolImages/Test/screw_driver/000080.jpg', 'ToolImages/Test/screw_driver/000081.jpg', 'ToolImages/Test/screw_driver/000096.jpg', 'ToolImages/Test/screw_driver/000097.jpg', 'ToolImages/Test/screw_driver/000098.jpg', 'ToolImages/Test/screw_driver/000099.jpg', 'ToolImages/Test/screw_driver/000102.jpg', 'ToolImages/Test/screw_driver/000107.jpg', 'ToolImages/Test/screw_driver/000128.jpg', 'ToolImages/Test/screw_driver/000130.jpg', 'ToolImages/Test/screw_driver/000132.jpg', 'ToolImages/Test/screw_driver/000136.jpg', 'ToolImages/Test/screw_driver/000138.jpg', 'ToolImages/Test/screw_driver/000143.jpg', 'ToolImages/Test/screw_driver/000161.jpg', 'ToolImages/Test/screw_driver/000162.jpg', 'ToolImages/Test/screw_driver/000163.jpg', 'ToolImages/Test/screw_driver/000164.jpg', 'ToolImages/Test/screw_driver/000167.jpg', 'ToolImages/Test/screw_driver/000172.jpg', 'ToolImages/Test/screw_driver/000191.jpg', 'ToolImages/Test/screw_driver/000199.jpg', 'ToolImages/Test/screw_driver/000206.jpg', 'ToolImages/Test/screw_driver/000207.jpg', 'ToolImages/Test/screw_driver/000210.jpg', 'ToolImages/Test/wrench/000134.jpg', 'ToolImages/Test/wrench/000141.jpg', 'ToolImages/Test/wrench/000205.jpg', 'ToolImages/Test/wrench/000207.jpg', 'ToolImages/Test/wrench/000208.jpg', 'ToolImages/Test/wrench/000213.jpg', 'ToolImages/Test/wrench/000215.jpg', 'ToolImages/Test/wrench/000220.jpg', 'ToolImages/Test/wrench/000226.jpg', 'ToolImages/Test/wrench/000228.jpg', 'ToolImages/Test/wrench/000232.jpg', 'ToolImages/Test/wrench/000233.jpg', 'ToolImages/Test/wrench/000242.jpg', 'ToolImages/Test/wrench/000265.jpg', 'ToolImages/Test/wrench/000268.jpg', 'ToolImages/Test/wrench/000278.jpg', 'ToolImages/Test/wrench/000287.jpg', 'ToolImages/Test/wrench/000289.jpg', 'ToolImages/Test/wrench/000290.jpg', 'ToolImages/Test/wrench/000293.jpg', 'ToolImages/Test/wrench/000315.jpg', 'ToolImages/Test/wrench/000317.jpg', 'ToolImages/Test/wrench/000319.jpg', 'ToolImages/Test/wrench/000390.jpg', 'ToolImages/Test/wrench/000396.jpg', 'ToolImages/Test/wrench/000397.jpg', 'ToolImages/Test/wrench/000398.jpg', 'ToolImages/Test/wrench/000399.jpg', 'ToolImages/Test/wrench/000400.jpg', 'ToolImages/Test/wrench/000402.jpg', 'ToolImages/Test/wrench/000413.jpg', 'ToolImages/Test/wrench/000417.jpg']\n"
     ]
    }
   ],
   "source": [
    "print(test_file_names)"
   ]
  },
  {
   "cell_type": "markdown",
   "metadata": {
    "id": "EGJdpWSdrWLM"
   },
   "source": [
    "## 2. Building image recognition application"
   ]
  },
  {
   "cell_type": "markdown",
   "metadata": {
    "id": "SqA9QASlrgFM"
   },
   "source": [
    "### 2.1: Building BoW model"
   ]
  },
  {
   "cell_type": "code",
   "execution_count": 9,
   "metadata": {
    "id": "oLJuIO6jrek8"
   },
   "outputs": [],
   "source": [
    "class Dictionary(object):\n",
    "    def __init__(self, name, img_filenames):\n",
    "        self.name = name # name of your dictionary\n",
    "        self.img_filenames = img_filenames # list of image filenames\n",
    "        # self.num_words = num_words # the number of words\n",
    "        self.training_data = [] # this is the training data required by the K-Means algorithm\n",
    "        self.words = [] # list of words, which are the centroids of clusters\n",
    "        \n",
    "    def elbow(self):\n",
    "        sift = cv.xfeatures2d.SIFT_create()\n",
    "\n",
    "        num_keypoints = [] # this is used to store the number of keypoints in each image\n",
    "        training_data = []\n",
    "\n",
    "        # load training images and compute SIFT descriptors\n",
    "        for filename in self.img_filenames:\n",
    "            img = cv.imread(filename)\n",
    "            img_gray = cv.cvtColor(img, cv.COLOR_BGR2GRAY)\n",
    "            list_des = sift.detectAndCompute(img_gray, None)[1]\n",
    "            if list_des is None:\n",
    "                num_keypoints.append(0)\n",
    "            else:\n",
    "                num_keypoints.append(len(list_des))\n",
    "                for des in list_des:\n",
    "                    training_data.append(des)\n",
    "                    \n",
    "        Sum_of_squared_distances = []\n",
    "        # K = [30, 40, 50, 60, 70, 80, 90, 100, 110, 125, 135, 150, 160, 175, 200, 225, 250, 275, 300, 325, 350, 375, 400, 425, 450, 475, 500]\n",
    "        # K = [50, 75, 100, 110, 125, 135, 150, 160, 175, 200, 225, 250, 275, 300, 325, 350, 375, 400, 425, 450, 475, 500]\n",
    "        K = [50, 75, 100, 110, 125, 135, 150, 160, 175, 190, 200, 210, 225, 250, 275, 300, 325, 350, 375, 400, 425, 450, 475, 500]\n",
    "        for k in K:\n",
    "            km = KMeans(n_clusters=k)\n",
    "            km = km.fit(training_data)\n",
    "            Sum_of_squared_distances.append(km.inertia_)\n",
    "\n",
    "        plt.plot(K, Sum_of_squared_distances, 'bx-')\n",
    "        plt.xlabel('k')\n",
    "        plt.ylabel('Sum of squared distances')\n",
    "        plt.title('Elbow Method For Optimal k')\n",
    "        plt.show()\n",
    "\n",
    "    def learn(self, num_words):\n",
    "        sift = cv.xfeatures2d.SIFT_create()\n",
    "\n",
    "        num_keypoints = [] # this is used to store the number of keypoints in each image\n",
    "\n",
    "        # load training images and compute SIFT descriptors\n",
    "        for filename in self.img_filenames:\n",
    "            img = cv.imread(filename)\n",
    "            img_gray = cv.cvtColor(img, cv.COLOR_BGR2GRAY)\n",
    "            list_des = sift.detectAndCompute(img_gray, None)[1]\n",
    "            if list_des is None:\n",
    "                num_keypoints.append(0)\n",
    "            else:\n",
    "                num_keypoints.append(len(list_des))\n",
    "                for des in list_des:\n",
    "                    self.training_data.append(des)\n",
    "\n",
    "        # cluster SIFT descriptors using K-means algorithm\n",
    "        kmeans = KMeans(num_words)\n",
    "        kmeans.fit(self.training_data)\n",
    "        self.words = kmeans.cluster_centers_\n",
    "\n",
    "        # create word histograms for training images\n",
    "        training_word_histograms = [] #list of word histograms of all training images\n",
    "        index = 0\n",
    "        for i in range(0, len(self.img_filenames)):\n",
    "            # for each file, create a histogram\n",
    "            histogram = np.zeros(num_words, np.float32)\n",
    "            # if some keypoints exist\n",
    "            if num_keypoints[i] > 0:\n",
    "                for j in range(0, num_keypoints[i]):\n",
    "                    histogram[kmeans.labels_[j + index]] += 1\n",
    "                index += num_keypoints[i]\n",
    "                histogram /= num_keypoints[i]\n",
    "                training_word_histograms.append(histogram)\n",
    "\n",
    "        return training_word_histograms\n",
    "\n",
    "    def create_word_histograms(self, img_filenames, num_words):\n",
    "        sift = cv.xfeatures2d.SIFT_create()\n",
    "        histograms = []\n",
    "\n",
    "        for filename in img_filenames:\n",
    "            img = cv.imread(filename)\n",
    "            img_gray = cv.cvtColor(img, cv.COLOR_BGR2GRAY)\n",
    "            descriptors = sift.detectAndCompute(img_gray, None)[1]\n",
    "            histogram = np.zeros(num_words, np.float32) # word histogram for the input image\n",
    "\n",
    "            if descriptors is not None:\n",
    "                for des in descriptors:\n",
    "                    # find the best matching word\n",
    "                    min_distance = 1111111 # this can be any large number\n",
    "                    matching_word_ID = -1 # initial matching_word_ID=-1 means no matching\n",
    "\n",
    "                    for i in range(0, num_words): #search for the best matching word\n",
    "                        distance = np.linalg.norm(des - self.words[i])\n",
    "                        if distance < min_distance:\n",
    "                            min_distance = distance\n",
    "                            matching_word_ID = i\n",
    "                    histogram[matching_word_ID] += 1\n",
    "                histogram /= len(descriptors) #normalise histogram to frequencies\n",
    "            histograms.append(histogram)\n",
    "        return histograms"
   ]
  },
  {
   "cell_type": "code",
   "execution_count": 10,
   "metadata": {
    "id": "t2XiD_V-reiU"
   },
   "outputs": [],
   "source": [
    "dictionary_name = 'tools_train'\n",
    "dictionary = Dictionary(dictionary_name, training_file_names)"
   ]
  },
  {
   "cell_type": "code",
   "execution_count": 11,
   "metadata": {
    "id": "l-efpJIkredz"
   },
   "outputs": [
    {
     "data": {
      "image/png": "[encoded data removed]",
      "text/plain": [
       "<Figure size 432x288 with 1 Axes>"
      ]
     },
     "metadata": {
      "needs_background": "light"
     },
     "output_type": "display_data"
    }
   ],
   "source": [
    "#Using the Elbow Method...\n",
    "\n",
    "#Using K = [50, 75, 100, 110, 125, 135, 150, 160, 175, 190, 200, 210, 225, 250, 275, 300, 325, 350, 375, 400, 425, 450, 475, 500]\n",
    "dictionary.elbow()"
   ]
  },
  {
   "cell_type": "markdown",
   "metadata": {},
   "source": [
    "\"From here, we can see that the least convergence in this figure is at a value at 190. We will use this value to derive the training histograms.\""
   ]
  },
  {
   "cell_type": "code",
   "execution_count": 12,
   "metadata": {},
   "outputs": [],
   "source": [
    "training_word_histograms = dictionary.learn(190)"
   ]
  },
  {
   "cell_type": "code",
   "execution_count": 13,
   "metadata": {},
   "outputs": [],
   "source": [
    "dictionary_name = 'tools_validation'\n",
    "val_dictionary = Dictionary(dictionary_name, val_file_names)\n",
    "val_word_histograms = val_dictionary.learn(190)"
   ]
  },
  {
   "cell_type": "markdown",
   "metadata": {
    "id": "7dhWuvtzrfM6"
   },
   "source": [
    "### 2.2: Building classifiers"
   ]
  },
  {
   "cell_type": "markdown",
   "metadata": {
    "id": "XqHKsiutrr6c"
   },
   "source": [
    "#### 2.2.1: Using Linear Kernel SVM"
   ]
  },
  {
   "cell_type": "markdown",
   "metadata": {},
   "source": [
    "\"For Hypertuning, we are going to employ a Grid Search and find the best possible hyperparameters.\""
   ]
  },
  {
   "cell_type": "code",
   "execution_count": 14,
   "metadata": {},
   "outputs": [],
   "source": [
    "#Now by hypertuning the parameters, we can find the best possible value of C from the Validation dataset...\n",
    "from sklearn.model_selection import GridSearchCV"
   ]
  },
  {
   "cell_type": "code",
   "execution_count": 39,
   "metadata": {
    "id": "9YKe7vxsrs1N"
   },
   "outputs": [
    {
     "name": "stdout",
     "output_type": "stream",
     "text": [
      "Tuned Linear Kernel SVM Parameters: {'C': 10}\n",
      "Best score is 0.5416666666666666\n"
     ]
    }
   ],
   "source": [
    "# Creating the hyperparameter grid\n",
    "c_space = [0.000001, 0.00001, 0.0001, 0.001, 0.01, 0.1, 1, 10]\n",
    "param_grid = {'C': c_space}\n",
    "\n",
    "# Instantiating SVM classifier\n",
    "svc = svm.SVC(kernel = 'linear')\n",
    "\n",
    "# Instantiating the GridSearchCV object with the Validation Dataset\n",
    "svc_cv = GridSearchCV(svc, param_grid, scoring = 'accuracy', cv = 5)\n",
    "svc_cv.fit(val_word_histograms, val_tool_labels)\n",
    "\n",
    "# Print the tuned parameters and score\n",
    "print(\"Tuned Linear Kernel SVM Parameters: {}\".format(svc_cv.best_params_))\n",
    "print(\"Best score is {}\".format(svc_cv.best_score_))"
   ]
  },
  {
   "cell_type": "markdown",
   "metadata": {},
   "source": [
    "\"After hyperparameter tuning, the suitable value for C for our Linear SVM is 100. Now we will apply this value to the training of the model.\""
   ]
  },
  {
   "cell_type": "code",
   "execution_count": 16,
   "metadata": {
    "id": "7l0ZfwSUrsvM"
   },
   "outputs": [
    {
     "data": {
      "text/plain": [
       "SVC(C=0.5416666666666666, kernel='linear')"
      ]
     },
     "execution_count": 16,
     "metadata": {},
     "output_type": "execute_result"
    }
   ],
   "source": [
    "svm_classifier = svm.SVC(C = svc_cv.best_score_, kernel = 'linear')\n",
    "svm_classifier.fit(training_word_histograms, training_tool_labels)"
   ]
  },
  {
   "cell_type": "markdown",
   "metadata": {
    "id": "PuyLzuoDrspw"
   },
   "source": [
    "#### 2.2.2: Using K- Nearest Neighbours"
   ]
  },
  {
   "cell_type": "code",
   "execution_count": 47,
   "metadata": {
    "scrolled": true
   },
   "outputs": [
    {
     "name": "stdout",
     "output_type": "stream",
     "text": [
      "Tuned K- Nearest Neighbours Parameters: {'n_neighbors': 5}\n",
      "Best score is 0.45833333333333337\n"
     ]
    }
   ],
   "source": [
    "# Creating the hyperparameter grid\n",
    "k_space =  [4, 5, 6, 7, 8, 9, 10, 15, 20, 25, 30, 35]\n",
    "param_grid = {'n_neighbors': k_space}\n",
    "\n",
    "# Instantiating KNN classifier\n",
    "knn = KNeighborsClassifier()\n",
    "\n",
    "# Instantiating the GridSearchCV object with the Validation Dataset\n",
    "knn_cv = GridSearchCV(knn, param_grid, scoring = 'accuracy', cv = 5)\n",
    "knn_cv.fit(val_word_histograms, val_tool_labels)\n",
    "\n",
    "# Print the tuned parameters and score\n",
    "print(\"Tuned K- Nearest Neighbours Parameters: {}\".format(knn_cv.best_params_))\n",
    "print(\"Best score is {}\".format(knn_cv.best_score_))"
   ]
  },
  {
   "cell_type": "markdown",
   "metadata": {},
   "source": [
    "\"After hyperparameter tuning, the suitable value for the nearest neighbours for our KNN is 15. Now we will apply this value to the training of the model.\""
   ]
  },
  {
   "cell_type": "code",
   "execution_count": 19,
   "metadata": {},
   "outputs": [
    {
     "data": {
      "text/plain": [
       "KNeighborsClassifier(n_neighbors=15)"
      ]
     },
     "execution_count": 19,
     "metadata": {},
     "output_type": "execute_result"
    }
   ],
   "source": [
    "knn_classifier = KNeighborsClassifier(n_neighbors = 15)\n",
    "knn_classifier.fit(training_word_histograms, training_tool_labels)"
   ]
  },
  {
   "cell_type": "markdown",
   "metadata": {},
   "source": [
    "#### 2.2.3: Using AdaBoost"
   ]
  },
  {
   "cell_type": "code",
   "execution_count": 52,
   "metadata": {},
   "outputs": [
    {
     "name": "stdout",
     "output_type": "stream",
     "text": [
      "Tuned AdaBoost Parameters: {'n_estimators': 170}\n",
      "Best score is 0.5416666666666667\n"
     ]
    }
   ],
   "source": [
    "# Creating the hyperparameter grid\n",
    "n_space =  [150, 160, 165, 170, 175, 180, 200, 250]\n",
    "param_grid = {'n_estimators': n_space}\n",
    "\n",
    "# Instantiating SVM classifier\n",
    "adb = AdaBoostClassifier(random_state = 0)\n",
    "\n",
    "# Instantiating the GridSearchCV object with the Validation Dataset\n",
    "adb_cv = GridSearchCV(adb, param_grid, scoring = 'accuracy', cv = 5)\n",
    "adb_cv.fit(val_word_histograms, val_tool_labels)\n",
    "\n",
    "# Print the tuned parameters and score\n",
    "print(\"Tuned AdaBoost Parameters: {}\".format(adb_cv.best_params_))\n",
    "print(\"Best score is {}\".format(adb_cv.best_score_))"
   ]
  },
  {
   "cell_type": "markdown",
   "metadata": {},
   "source": [
    "\"After hyperparameter tuning, the suitable value for n_estimators for our AdaBoost is .... Now we will apply this value to the training of the model.\""
   ]
  },
  {
   "cell_type": "code",
   "execution_count": 21,
   "metadata": {},
   "outputs": [
    {
     "data": {
      "text/plain": [
       "AdaBoostClassifier(n_estimators=150, random_state=0)"
      ]
     },
     "execution_count": 21,
     "metadata": {},
     "output_type": "execute_result"
    }
   ],
   "source": [
    "adb_classifier = AdaBoostClassifier(n_estimators = 150, random_state = 0)\n",
    "adb_classifier.fit(training_word_histograms, training_tool_labels)"
   ]
  },
  {
   "cell_type": "markdown",
   "metadata": {
    "id": "tCE3Vcz_rxBs"
   },
   "source": [
    "### 2.3: Evaluating classifiers"
   ]
  },
  {
   "cell_type": "code",
   "execution_count": 22,
   "metadata": {},
   "outputs": [],
   "source": [
    "dictionary_name = 'tools_testing'\n",
    "test_dictionary = Dictionary(dictionary_name, val_file_names)\n",
    "test_word_histograms = test_dictionary.learn(190)"
   ]
  },
  {
   "cell_type": "code",
   "execution_count": 23,
   "metadata": {},
   "outputs": [
    {
     "name": "stdout",
     "output_type": "stream",
     "text": [
      "Total number of Food Items from the testing dataset:  128\n"
     ]
    }
   ],
   "source": [
    "print(\"Total number of Food Items from the testing dataset: \", len(test_tool_labels))"
   ]
  },
  {
   "cell_type": "markdown",
   "metadata": {
    "id": "7F0aQ0L6rzh_"
   },
   "source": [
    "#### 2.2.1: Evaluating our Linear SVM Model"
   ]
  },
  {
   "cell_type": "code",
   "execution_count": 24,
   "metadata": {
    "id": "LH0yjhbMr0Sd"
   },
   "outputs": [],
   "source": [
    "num_words = 190\n",
    "word_histograms = dictionary.create_word_histograms(test_file_names, num_words)\n",
    "svm_predicted_tool_labels = svm_classifier.predict(word_histograms)"
   ]
  },
  {
   "cell_type": "code",
   "execution_count": 25,
   "metadata": {},
   "outputs": [
    {
     "name": "stdout",
     "output_type": "stream",
     "text": [
      "------------------CONFUSION MATRIX FROM SVM--------------------\n",
      "\n",
      "[[ 0  0  0 32]\n",
      " [ 0  0  0 32]\n",
      " [ 0  0  0 32]\n",
      " [ 0  0  0 32]]\n",
      "\n",
      "\n",
      "------------------CLASSIFICATION RESULTS--------------------\n",
      "\n",
      "\n",
      "              precision    recall  f1-score   support\n",
      "\n",
      "           0       0.00      0.00      0.00        32\n",
      "           1       0.00      0.00      0.00        32\n",
      "           2       0.00      0.00      0.00        32\n",
      "           3       0.25      1.00      0.40        32\n",
      "\n",
      "    accuracy                           0.25       128\n",
      "   macro avg       0.06      0.25      0.10       128\n",
      "weighted avg       0.06      0.25      0.10       128\n",
      "\n"
     ]
    },
    {
     "name": "stderr",
     "output_type": "stream",
     "text": [
      "C:\\Users\\Sohaib bin Kashif\\anaconda3\\lib\\site-packages\\sklearn\\metrics\\_classification.py:1318: UndefinedMetricWarning: Precision and F-score are ill-defined and being set to 0.0 in labels with no predicted samples. Use `zero_division` parameter to control this behavior.\n",
      "  _warn_prf(average, modifier, msg_start, len(result))\n",
      "C:\\Users\\Sohaib bin Kashif\\anaconda3\\lib\\site-packages\\sklearn\\metrics\\_classification.py:1318: UndefinedMetricWarning: Precision and F-score are ill-defined and being set to 0.0 in labels with no predicted samples. Use `zero_division` parameter to control this behavior.\n",
      "  _warn_prf(average, modifier, msg_start, len(result))\n",
      "C:\\Users\\Sohaib bin Kashif\\anaconda3\\lib\\site-packages\\sklearn\\metrics\\_classification.py:1318: UndefinedMetricWarning: Precision and F-score are ill-defined and being set to 0.0 in labels with no predicted samples. Use `zero_division` parameter to control this behavior.\n",
      "  _warn_prf(average, modifier, msg_start, len(result))\n"
     ]
    }
   ],
   "source": [
    "#Plotting the Confusion Matrix and Classification Report...\n",
    "cm = confusion_matrix(test_tool_labels, svm_predicted_tool_labels)\n",
    "print(\"------------------CONFUSION MATRIX FROM SVM--------------------\\n\")\n",
    "print(cm)\n",
    "\n",
    "ca = classification_report(test_tool_labels, svm_predicted_tool_labels)\n",
    "print(\"\\n\\n------------------CLASSIFICATION RESULTS--------------------\\n\\n\")\n",
    "print(ca)"
   ]
  },
  {
   "cell_type": "code",
   "execution_count": 26,
   "metadata": {},
   "outputs": [
    {
     "name": "stdout",
     "output_type": "stream",
     "text": [
      "Recognition Accuracy:  25.0 %\n"
     ]
    }
   ],
   "source": [
    "#Computing the recognition Accuracy with the help of the Confusion Matrix...\n",
    "recog_acc = (cm[0][0] + cm[1][1] + cm[2][2] + cm[3][3]) / len(test_tool_labels)\n",
    "print(\"Recognition Accuracy: \", round(recog_acc,4) * 100,\"%\")"
   ]
  },
  {
   "cell_type": "markdown",
   "metadata": {
    "id": "Pp3Ixy9Hr0OE"
   },
   "source": [
    "#### 2.2.2: Evaluating our KNN Model "
   ]
  },
  {
   "cell_type": "code",
   "execution_count": 27,
   "metadata": {
    "id": "8TfaJjUUr0JM"
   },
   "outputs": [],
   "source": [
    "num_words = 190\n",
    "word_histograms = dictionary.create_word_histograms(test_file_names, num_words)\n",
    "knn_predicted_tool_labels = knn_classifier.predict(word_histograms)"
   ]
  },
  {
   "cell_type": "code",
   "execution_count": 28,
   "metadata": {},
   "outputs": [
    {
     "name": "stdout",
     "output_type": "stream",
     "text": [
      "------------------CONFUSION MATRIX FROM KNN--------------------\n",
      "\n",
      "[[ 8 21  0  3]\n",
      " [ 2 30  0  0]\n",
      " [ 6 23  3  0]\n",
      " [ 9 15  0  8]]\n",
      "\n",
      "\n",
      "------------------CLASSIFICATION RESULTS--------------------\n",
      "\n",
      "\n",
      "              precision    recall  f1-score   support\n",
      "\n",
      "           0       0.32      0.25      0.28        32\n",
      "           1       0.34      0.94      0.50        32\n",
      "           2       1.00      0.09      0.17        32\n",
      "           3       0.73      0.25      0.37        32\n",
      "\n",
      "    accuracy                           0.38       128\n",
      "   macro avg       0.60      0.38      0.33       128\n",
      "weighted avg       0.60      0.38      0.33       128\n",
      "\n"
     ]
    }
   ],
   "source": [
    "#Plotting the Confusion Matrix and Classification Report...\n",
    "cm = confusion_matrix(test_tool_labels, knn_predicted_tool_labels)\n",
    "print(\"------------------CONFUSION MATRIX FROM KNN--------------------\\n\")\n",
    "print(cm)\n",
    "\n",
    "ca = classification_report(test_tool_labels, knn_predicted_tool_labels)\n",
    "print(\"\\n\\n------------------CLASSIFICATION RESULTS--------------------\\n\\n\")\n",
    "print(ca)"
   ]
  },
  {
   "cell_type": "code",
   "execution_count": 29,
   "metadata": {},
   "outputs": [
    {
     "name": "stdout",
     "output_type": "stream",
     "text": [
      "Recognition Accuracy:  38.279999999999994 %\n"
     ]
    }
   ],
   "source": [
    "#Computing the recognition Accuracy with the help of the Confusion Matrix...\n",
    "recog_acc = (cm[0][0] + cm[1][1] + cm[2][2] + cm[3][3]) / len(test_tool_labels)\n",
    "print(\"Recognition Accuracy: \", round(recog_acc,4) * 100,\"%\")"
   ]
  },
  {
   "cell_type": "markdown",
   "metadata": {},
   "source": [
    "#### 2.2.3: Evaluating our AdaBoost Model"
   ]
  },
  {
   "cell_type": "code",
   "execution_count": 30,
   "metadata": {},
   "outputs": [],
   "source": [
    "num_words = 190\n",
    "word_histograms = dictionary.create_word_histograms(test_file_names, num_words)\n",
    "adb_predicted_tool_labels = adb_classifier.predict(word_histograms)"
   ]
  },
  {
   "cell_type": "code",
   "execution_count": 31,
   "metadata": {},
   "outputs": [
    {
     "name": "stdout",
     "output_type": "stream",
     "text": [
      "------------------CONFUSION MATRIX FROM AdaBoost--------------------\n",
      "\n",
      "[[13  1  7 11]\n",
      " [ 8 11 11  2]\n",
      " [10  0 19  3]\n",
      " [ 4  0  6 22]]\n",
      "\n",
      "\n",
      "------------------CLASSIFICATION RESULTS--------------------\n",
      "\n",
      "\n",
      "              precision    recall  f1-score   support\n",
      "\n",
      "           0       0.37      0.41      0.39        32\n",
      "           1       0.92      0.34      0.50        32\n",
      "           2       0.44      0.59      0.51        32\n",
      "           3       0.58      0.69      0.63        32\n",
      "\n",
      "    accuracy                           0.51       128\n",
      "   macro avg       0.58      0.51      0.51       128\n",
      "weighted avg       0.58      0.51      0.51       128\n",
      "\n"
     ]
    }
   ],
   "source": [
    "#Plotting the Confusion Matrix and Classification Report...\n",
    "cm = confusion_matrix(test_tool_labels, adb_predicted_tool_labels)\n",
    "print(\"------------------CONFUSION MATRIX FROM AdaBoost--------------------\\n\")\n",
    "print(cm)\n",
    "\n",
    "ca = classification_report(test_tool_labels, adb_predicted_tool_labels)\n",
    "print(\"\\n\\n------------------CLASSIFICATION RESULTS--------------------\\n\\n\")\n",
    "print(ca)"
   ]
  },
  {
   "cell_type": "code",
   "execution_count": 32,
   "metadata": {},
   "outputs": [
    {
     "name": "stdout",
     "output_type": "stream",
     "text": [
      "Recognition Accuracy:  50.78 %\n"
     ]
    }
   ],
   "source": [
    "#Computing the recognition Accuracy with the help of the Confusion Matrix...\n",
    "recog_acc = (cm[0][0] + cm[1][1] + cm[2][2] + cm[3][3]) / len(test_tool_labels)\n",
    "print(\"Recognition Accuracy: \", round(recog_acc,4) * 100,\"%\")"
   ]
  },
  {
   "cell_type": "markdown",
   "metadata": {
    "id": "VieHHWmGr483"
   },
   "source": [
    "## 3. Documentation"
   ]
  },
  {
   "cell_type": "markdown",
   "metadata": {
    "id": "PGbCmlCGr7W3"
   },
   "source": [
    "\"Please refer to the attached report for this heading.\""
   ]
  }
 ],
 "metadata": {
  "colab": {
   "collapsed_sections": [
    "7dhWuvtzrfM6",
    "tCE3Vcz_rxBs"
   ],
   "name": "Task 4.3P",
   "provenance": []
  },
  "kernelspec": {
   "display_name": "Python 3 (ipykernel)",
   "language": "python",
   "name": "python3"
  },
  "language_info": {
   "codemirror_mode": {
    "name": "ipython",
    "version": 3
   },
   "file_extension": ".py",
   "mimetype": "text/x-python",
   "name": "python",
   "nbconvert_exporter": "python",
   "pygments_lexer": "ipython3",
   "version": "3.9.12"
  }
 },
 "nbformat": 4,
 "nbformat_minor": 1
}
