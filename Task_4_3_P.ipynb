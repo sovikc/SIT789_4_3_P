{
 "cells": [
  {
   "cell_type": "markdown",
   "id": "b3b3ea0e",
   "metadata": {},
   "source": [
    "### Load libraries"
   ]
  },
  {
   "cell_type": "code",
   "execution_count": 1,
   "id": "560ded3c",
   "metadata": {},
   "outputs": [],
   "source": [
    "import numpy as np\n",
    "import cv2 as cv\n",
    "from sklearn.cluster import KMeans\n",
    "from sklearn.metrics import classification_report,confusion_matrix\n",
    "import matplotlib. pyplot as plt"
   ]
  },
  {
   "cell_type": "markdown",
   "id": "b138388d",
   "metadata": {},
   "source": [
    "### BoW Model"
   ]
  },
  {
   "cell_type": "code",
   "execution_count": 10,
   "id": "25e9dd41",
   "metadata": {},
   "outputs": [],
   "source": [
    "class Dictionary(object):\n",
    "    def __init__(self, name, img_filenames):\n",
    "        self.name = name # name of your dictionary\n",
    "        self.img_filenames = img_filenames # list of image filenames\n",
    "        # self.num_words = num_words # the number of words\n",
    "        self.training_data = [] # this is the training data required by the K-Means algorithm\n",
    "        self.words = [] # list of words, which are the centroids of clusters\n",
    "        \n",
    "    def elbow(self):\n",
    "        sift = cv.xfeatures2d.SIFT_create()\n",
    "\n",
    "        num_keypoints = [] # this is used to store the number of keypoints in each image\n",
    "        training_data = []\n",
    "\n",
    "        # load training images and compute SIFT descriptors\n",
    "        for filename in self.img_filenames:\n",
    "            img = cv.imread(filename)\n",
    "            img_gray = cv.cvtColor(img, cv.COLOR_BGR2GRAY)\n",
    "            list_des = sift.detectAndCompute(img_gray, None)[1]\n",
    "            if list_des is None:\n",
    "                num_keypoints.append(0)\n",
    "            else:\n",
    "                num_keypoints.append(len(list_des))\n",
    "                for des in list_des:\n",
    "                    training_data.append(des)\n",
    "                    \n",
    "        Sum_of_squared_distances = []\n",
    "        K = range(1,10)\n",
    "        for k in K:\n",
    "            km = KMeans(n_clusters=k)\n",
    "            km = km.fit(training_data)\n",
    "            Sum_of_squared_distances.append(km.inertia_)\n",
    "\n",
    "        plt.plot(K, Sum_of_squared_distances, 'bx-')\n",
    "        plt.xlabel('k')\n",
    "        plt.ylabel('Sum of squared distances')\n",
    "        plt.title('Elbow Method For Optimal k')\n",
    "        plt.show()\n",
    "\n",
    "    def learn(self, num_words):\n",
    "        sift = cv.xfeatures2d.SIFT_create()\n",
    "\n",
    "        num_keypoints = [] # this is used to store the number of keypoints in each image\n",
    "\n",
    "        # load training images and compute SIFT descriptors\n",
    "        for filename in self.img_filenames:\n",
    "            img = cv.imread(filename)\n",
    "            img_gray = cv.cvtColor(img, cv.COLOR_BGR2GRAY)\n",
    "            list_des = sift.detectAndCompute(img_gray, None)[1]\n",
    "            if list_des is None:\n",
    "                num_keypoints.append(0)\n",
    "            else:\n",
    "                num_keypoints.append(len(list_des))\n",
    "                for des in list_des:\n",
    "                    self.training_data.append(des)\n",
    "\n",
    "        # cluster SIFT descriptors using K-means algorithm\n",
    "        kmeans = KMeans(num_words)\n",
    "        kmeans.fit(self.training_data)\n",
    "        self.words = kmeans.cluster_centers_\n",
    "\n",
    "        # create word histograms for training images\n",
    "        training_word_histograms = [] #list of word histograms of all training images\n",
    "        index = 0\n",
    "        for i in range(0, len(self.img_filenames)):\n",
    "            # for each file, create a histogram\n",
    "            histogram = np.zeros(num_words, np.float32)\n",
    "            # if some keypoints exist\n",
    "            if num_keypoints[i] > 0:\n",
    "                for j in range(0, num_keypoints[i]):\n",
    "                    histogram[kmeans.labels_[j + index]] += 1\n",
    "                index += num_keypoints[i]\n",
    "                histogram /= num_keypoints[i]\n",
    "                training_word_histograms.append(histogram)\n",
    "\n",
    "        return training_word_histograms\n",
    "\n",
    "    def create_word_histograms(self, img_filenames, num_words):\n",
    "        sift = cv.xfeatures2d.SIFT_create()\n",
    "        histograms = []\n",
    "\n",
    "        for filename in img_filenames:\n",
    "            img = cv.imread(filename)\n",
    "            img_gray = cv.cvtColor(img, cv.COLOR_BGR2GRAY)\n",
    "            descriptors = sift.detectAndCompute(img_gray, None)[1]\n",
    "            histogram = np.zeros(num_words, np.float32) # word histogram for the input image\n",
    "\n",
    "            if descriptors is not None:\n",
    "                for des in descriptors:\n",
    "                    # find the best matching word\n",
    "                    min_distance = 1111111 # this can be any large number\n",
    "                    matching_word_ID = -1 # initial matching_word_ID=-1 means no matching\n",
    "\n",
    "                    for i in range(0, num_words): #search for the best matching word\n",
    "                        distance = np.linalg.norm(des - self.words[i])\n",
    "                        if distance < min_distance:\n",
    "                            min_distance = distance\n",
    "                            matching_word_ID = i\n",
    "                    histogram[matching_word_ID] += 1\n",
    "                histogram /= len(descriptors) #normalise histogram to frequencies\n",
    "            histograms.append(histogram)\n",
    "        return histograms"
   ]
  },
  {
   "cell_type": "markdown",
   "id": "cadcf6e2",
   "metadata": {},
   "source": [
    "### Loading Data "
   ]
  },
  {
   "cell_type": "code",
   "execution_count": 3,
   "id": "f1c5697f",
   "metadata": {},
   "outputs": [],
   "source": [
    "import os\n",
    "\n",
    "tools = ['hammer', 'pliers', 'screw_driver', 'wrench']\n",
    "path = 'ToolImages/'\n",
    "\n",
    "def get_data(dir_name):\n",
    "    file_names = []\n",
    "    tool_labels = []\n",
    "    for i in range(0, len(tools)):\n",
    "        sub_path = path + dir_name + '/' + tools[i] + '/'\n",
    "        sub_file_names = [os.path.join(sub_path, f) for f in os.listdir(sub_path)]\n",
    "        sub_tool_labels = [i] * len(sub_file_names) #create a list of N elements, all are i\n",
    "        file_names += sub_file_names\n",
    "        tool_labels += sub_tool_labels\n",
    "    return (file_names, tool_labels)"
   ]
  },
  {
   "cell_type": "code",
   "execution_count": 4,
   "id": "9f5d327a",
   "metadata": {},
   "outputs": [],
   "source": [
    "training_data = get_data('Train')\n",
    "training_file_names = training_data[0]\n",
    "training_tool_labels = training_data[1]"
   ]
  },
  {
   "cell_type": "code",
   "execution_count": 5,
   "id": "14cc06f5",
   "metadata": {},
   "outputs": [
    {
     "name": "stdout",
     "output_type": "stream",
     "text": [
      "['ToolImages/Train/hammer/000002.jpg', 'ToolImages/Train/hammer/000003.jpg', 'ToolImages/Train/hammer/000005.jpg', 'ToolImages/Train/hammer/000007.jpg', 'ToolImages/Train/hammer/000008.jpg', 'ToolImages/Train/hammer/000011.jpg', 'ToolImages/Train/hammer/000013.jpg', 'ToolImages/Train/hammer/000014.jpg', 'ToolImages/Train/hammer/000015.jpg', 'ToolImages/Train/hammer/000016.jpg', 'ToolImages/Train/hammer/000017.jpg', 'ToolImages/Train/hammer/000018.jpg', 'ToolImages/Train/hammer/000020.jpg', 'ToolImages/Train/hammer/000022.jpg', 'ToolImages/Train/hammer/000025.jpg', 'ToolImages/Train/hammer/000027.jpg', 'ToolImages/Train/hammer/000029.jpg', 'ToolImages/Train/hammer/000034.jpg', 'ToolImages/Train/hammer/000035.jpg', 'ToolImages/Train/hammer/000037.jpg', 'ToolImages/Train/hammer/000042.jpg', 'ToolImages/Train/hammer/000046.jpg', 'ToolImages/Train/hammer/000047.jpg', 'ToolImages/Train/hammer/000048.jpg', 'ToolImages/Train/hammer/000049.jpg', 'ToolImages/Train/hammer/000052.jpg', 'ToolImages/Train/hammer/000053.jpg', 'ToolImages/Train/hammer/000054.jpg', 'ToolImages/Train/hammer/000055.jpg', 'ToolImages/Train/hammer/000056.jpg', 'ToolImages/Train/hammer/000057.jpg', 'ToolImages/Train/hammer/000058.jpg', 'ToolImages/Train/hammer/000061.jpg', 'ToolImages/Train/hammer/000063.jpg', 'ToolImages/Train/hammer/000069.jpg', 'ToolImages/Train/hammer/000070.jpg', 'ToolImages/Train/hammer/000071.jpg', 'ToolImages/Train/hammer/000072.jpg', 'ToolImages/Train/hammer/000074.jpg', 'ToolImages/Train/hammer/000075.jpg', 'ToolImages/Train/hammer/000076.jpg', 'ToolImages/Train/hammer/000077.jpg', 'ToolImages/Train/hammer/000079.jpg', 'ToolImages/Train/hammer/000080.jpg', 'ToolImages/Train/hammer/000081.jpg', 'ToolImages/Train/hammer/000083.jpg', 'ToolImages/Train/hammer/000084.jpg', 'ToolImages/Train/hammer/000085.jpg', 'ToolImages/Train/hammer/000088.jpg', 'ToolImages/Train/hammer/000089.jpg', 'ToolImages/Train/hammer/000090.jpg', 'ToolImages/Train/hammer/000093.jpg', 'ToolImages/Train/hammer/000094.jpg', 'ToolImages/Train/hammer/000095.jpg', 'ToolImages/Train/hammer/000097.jpg', 'ToolImages/Train/hammer/000099.jpg', 'ToolImages/Train/hammer/000100.jpg', 'ToolImages/Train/hammer/000104.jpg', 'ToolImages/Train/hammer/000105.jpg', 'ToolImages/Train/hammer/000106.jpg', 'ToolImages/Train/hammer/000107.jpg', 'ToolImages/Train/hammer/000108.jpg', 'ToolImages/Train/hammer/000110.jpg', 'ToolImages/Train/hammer/000111.jpg', 'ToolImages/Train/hammer/000113.jpg', 'ToolImages/Train/hammer/000137.jpg', 'ToolImages/Train/hammer/000141.jpg', 'ToolImages/Train/hammer/000151.jpg', 'ToolImages/Train/hammer/000195.jpg', 'ToolImages/Train/hammer/000196.jpg', 'ToolImages/Train/hammer/000201.jpg', 'ToolImages/Train/hammer/000260.jpg', 'ToolImages/Train/hammer/000266.jpg', 'ToolImages/Train/hammer/000272.jpg', 'ToolImages/Train/pliers/000000.jpg', 'ToolImages/Train/pliers/000001.jpg', 'ToolImages/Train/pliers/000002.jpg', 'ToolImages/Train/pliers/000005.jpg', 'ToolImages/Train/pliers/000006.jpg', 'ToolImages/Train/pliers/000007.jpg', 'ToolImages/Train/pliers/000008.jpg', 'ToolImages/Train/pliers/000009.jpg', 'ToolImages/Train/pliers/000010.jpg', 'ToolImages/Train/pliers/000011.jpg', 'ToolImages/Train/pliers/000012.jpg', 'ToolImages/Train/pliers/000014.jpg', 'ToolImages/Train/pliers/000015.jpg', 'ToolImages/Train/pliers/000016.jpg', 'ToolImages/Train/pliers/000017.jpg', 'ToolImages/Train/pliers/000018.jpg', 'ToolImages/Train/pliers/000020.jpg', 'ToolImages/Train/pliers/000025.jpg', 'ToolImages/Train/pliers/000027.jpg', 'ToolImages/Train/pliers/000028.jpg', 'ToolImages/Train/pliers/000029.jpg', 'ToolImages/Train/pliers/000030.jpg', 'ToolImages/Train/pliers/000031.jpg', 'ToolImages/Train/pliers/000033.jpg', 'ToolImages/Train/pliers/000034.jpg', 'ToolImages/Train/pliers/000036.jpg', 'ToolImages/Train/pliers/000037.jpg', 'ToolImages/Train/pliers/000038.jpg', 'ToolImages/Train/pliers/000039.jpg', 'ToolImages/Train/pliers/000040.jpg', 'ToolImages/Train/pliers/000041.jpg', 'ToolImages/Train/pliers/000043.jpg', 'ToolImages/Train/pliers/000044.jpg', 'ToolImages/Train/pliers/000047.jpg', 'ToolImages/Train/pliers/000048.jpg', 'ToolImages/Train/pliers/000051.jpg', 'ToolImages/Train/pliers/000052.jpg', 'ToolImages/Train/pliers/000053.jpg', 'ToolImages/Train/pliers/000055.jpg', 'ToolImages/Train/pliers/000063.jpg', 'ToolImages/Train/pliers/000064.jpg', 'ToolImages/Train/pliers/000065.jpg', 'ToolImages/Train/pliers/000066.jpg', 'ToolImages/Train/pliers/000068.jpg', 'ToolImages/Train/pliers/000069.jpg', 'ToolImages/Train/pliers/000070.jpg', 'ToolImages/Train/pliers/000071.jpg', 'ToolImages/Train/pliers/000083.jpg', 'ToolImages/Train/pliers/000084.jpg', 'ToolImages/Train/pliers/000085.jpg', 'ToolImages/Train/pliers/000086 - Copy.jpg', 'ToolImages/Train/pliers/000086.jpg', 'ToolImages/Train/pliers/000087.jpg', 'ToolImages/Train/pliers/000088.jpg', 'ToolImages/Train/pliers/000089.jpg', 'ToolImages/Train/pliers/000096.jpg', 'ToolImages/Train/pliers/000097.jpg', 'ToolImages/Train/pliers/000098.jpg', 'ToolImages/Train/pliers/000099.jpg', 'ToolImages/Train/pliers/000101.jpg', 'ToolImages/Train/pliers/000103.jpg', 'ToolImages/Train/pliers/000105.jpg', 'ToolImages/Train/pliers/000115.jpg', 'ToolImages/Train/pliers/000116.jpg', 'ToolImages/Train/pliers/000120.jpg', 'ToolImages/Train/pliers/000123.jpg', 'ToolImages/Train/pliers/000124.jpg', 'ToolImages/Train/pliers/000125.jpg', 'ToolImages/Train/pliers/000126.jpg', 'ToolImages/Train/pliers/000134.jpg', 'ToolImages/Train/pliers/000135.jpg', 'ToolImages/Train/pliers/000136.jpg', 'ToolImages/Train/pliers/000140.jpg', 'ToolImages/Train/pliers/000141.jpg', 'ToolImages/Train/pliers/000142.jpg', 'ToolImages/Train/pliers/000143.jpg', 'ToolImages/Train/screw_driver/000000.jpg', 'ToolImages/Train/screw_driver/000001.jpg', 'ToolImages/Train/screw_driver/000002.jpg', 'ToolImages/Train/screw_driver/000004.jpg', 'ToolImages/Train/screw_driver/000005.jpg', 'ToolImages/Train/screw_driver/000006.jpg', 'ToolImages/Train/screw_driver/000007.jpg', 'ToolImages/Train/screw_driver/000008.jpg', 'ToolImages/Train/screw_driver/000009.jpg', 'ToolImages/Train/screw_driver/000010.jpg', 'ToolImages/Train/screw_driver/000013.jpg', 'ToolImages/Train/screw_driver/000017.jpg', 'ToolImages/Train/screw_driver/000019.jpg', 'ToolImages/Train/screw_driver/000020.jpg', 'ToolImages/Train/screw_driver/000023.jpg', 'ToolImages/Train/screw_driver/000025.jpg', 'ToolImages/Train/screw_driver/000026.jpg', 'ToolImages/Train/screw_driver/000027.jpg', 'ToolImages/Train/screw_driver/000028.jpg', 'ToolImages/Train/screw_driver/000029.jpg', 'ToolImages/Train/screw_driver/000031.jpg', 'ToolImages/Train/screw_driver/000032.jpg', 'ToolImages/Train/screw_driver/000033.jpg', 'ToolImages/Train/screw_driver/000038.jpg', 'ToolImages/Train/screw_driver/000039.jpg', 'ToolImages/Train/screw_driver/000040.jpg', 'ToolImages/Train/screw_driver/000041.jpg', 'ToolImages/Train/screw_driver/000042.jpg', 'ToolImages/Train/screw_driver/000043.jpg', 'ToolImages/Train/screw_driver/000044.jpg', 'ToolImages/Train/screw_driver/000045.jpg', 'ToolImages/Train/screw_driver/000047.jpg', 'ToolImages/Train/screw_driver/000048.jpg', 'ToolImages/Train/screw_driver/000049.jpg', 'ToolImages/Train/screw_driver/000050.jpg', 'ToolImages/Train/screw_driver/000051.jpg', 'ToolImages/Train/screw_driver/000052.jpg', 'ToolImages/Train/screw_driver/000053.jpg', 'ToolImages/Train/screw_driver/000054.jpg', 'ToolImages/Train/screw_driver/000055.jpg', 'ToolImages/Train/screw_driver/000056.jpg', 'ToolImages/Train/screw_driver/000057.jpg', 'ToolImages/Train/screw_driver/000058.jpg', 'ToolImages/Train/screw_driver/000060.jpg', 'ToolImages/Train/screw_driver/000061.jpg', 'ToolImages/Train/screw_driver/000066.jpg', 'ToolImages/Train/screw_driver/000069.jpg', 'ToolImages/Train/screw_driver/000070.jpg', 'ToolImages/Train/screw_driver/000071.jpg', 'ToolImages/Train/screw_driver/000073.jpg', 'ToolImages/Train/screw_driver/000082.jpg', 'ToolImages/Train/screw_driver/000083.jpg', 'ToolImages/Train/screw_driver/000084.jpg', 'ToolImages/Train/screw_driver/000089.jpg', 'ToolImages/Train/screw_driver/000090.jpg', 'ToolImages/Train/screw_driver/000093.jpg', 'ToolImages/Train/screw_driver/000095.jpg', 'ToolImages/Train/screw_driver/000110.jpg', 'ToolImages/Train/screw_driver/000111.jpg', 'ToolImages/Train/screw_driver/000117.jpg', 'ToolImages/Train/screw_driver/000118.jpg', 'ToolImages/Train/screw_driver/000120.jpg', 'ToolImages/Train/screw_driver/000123.jpg', 'ToolImages/Train/screw_driver/000124.jpg', 'ToolImages/Train/screw_driver/000144.jpg', 'ToolImages/Train/screw_driver/000145.jpg', 'ToolImages/Train/screw_driver/000146.jpg', 'ToolImages/Train/screw_driver/000149.jpg', 'ToolImages/Train/screw_driver/000155.jpg', 'ToolImages/Train/screw_driver/000159.jpg', 'ToolImages/Train/screw_driver/000160.jpg', 'ToolImages/Train/screw_driver/000179.jpg', 'ToolImages/Train/screw_driver/000180.jpg', 'ToolImages/Train/screw_driver/000182.jpg', 'ToolImages/Train/screw_driver/000183.jpg', 'ToolImages/Train/screw_driver/000184.jpg', 'ToolImages/Train/screw_driver/000187.jpg', 'ToolImages/Train/screw_driver/000189.jpg', 'ToolImages/Train/wrench/000000.jpg', 'ToolImages/Train/wrench/000002.jpg', 'ToolImages/Train/wrench/000005.jpg', 'ToolImages/Train/wrench/000006.jpg', 'ToolImages/Train/wrench/000009.jpg', 'ToolImages/Train/wrench/000010.jpg', 'ToolImages/Train/wrench/000021.jpg', 'ToolImages/Train/wrench/000022.jpg', 'ToolImages/Train/wrench/000023.jpg', 'ToolImages/Train/wrench/000026.jpg', 'ToolImages/Train/wrench/000027.jpg', 'ToolImages/Train/wrench/000031.jpg', 'ToolImages/Train/wrench/000032.jpg', 'ToolImages/Train/wrench/000035.jpg', 'ToolImages/Train/wrench/000036.jpg', 'ToolImages/Train/wrench/000041.jpg', 'ToolImages/Train/wrench/000042.jpg', 'ToolImages/Train/wrench/000043.jpg', 'ToolImages/Train/wrench/000045.jpg', 'ToolImages/Train/wrench/000048.jpg', 'ToolImages/Train/wrench/000050.jpg', 'ToolImages/Train/wrench/000051.jpg', 'ToolImages/Train/wrench/000052.jpg', 'ToolImages/Train/wrench/000055.jpg', 'ToolImages/Train/wrench/000056.jpg', 'ToolImages/Train/wrench/000057.jpg', 'ToolImages/Train/wrench/000059.jpg', 'ToolImages/Train/wrench/000066.jpg', 'ToolImages/Train/wrench/000069.jpg', 'ToolImages/Train/wrench/000071.jpg', 'ToolImages/Train/wrench/000075.jpg', 'ToolImages/Train/wrench/000076.jpg', 'ToolImages/Train/wrench/000077.jpg', 'ToolImages/Train/wrench/000083.jpg', 'ToolImages/Train/wrench/000084.jpg', 'ToolImages/Train/wrench/000085.jpg', 'ToolImages/Train/wrench/000086.jpg', 'ToolImages/Train/wrench/000087.jpg', 'ToolImages/Train/wrench/000088.jpg', 'ToolImages/Train/wrench/000091.jpg', 'ToolImages/Train/wrench/000096.jpg', 'ToolImages/Train/wrench/000098.jpg', 'ToolImages/Train/wrench/000105.jpg', 'ToolImages/Train/wrench/000111.jpg', 'ToolImages/Train/wrench/000112.jpg', 'ToolImages/Train/wrench/000113.jpg', 'ToolImages/Train/wrench/000116.jpg', 'ToolImages/Train/wrench/000118.jpg', 'ToolImages/Train/wrench/000120.jpg', 'ToolImages/Train/wrench/000125.jpg', 'ToolImages/Train/wrench/000128.jpg', 'ToolImages/Train/wrench/000130.jpg', 'ToolImages/Train/wrench/000131.jpg', 'ToolImages/Train/wrench/000132.jpg', 'ToolImages/Train/wrench/000133.jpg', 'ToolImages/Train/wrench/000135.jpg', 'ToolImages/Train/wrench/000137.jpg', 'ToolImages/Train/wrench/000138.jpg', 'ToolImages/Train/wrench/000146.jpg', 'ToolImages/Train/wrench/000147.jpg', 'ToolImages/Train/wrench/000148.jpg', 'ToolImages/Train/wrench/000149.jpg', 'ToolImages/Train/wrench/000152.jpg', 'ToolImages/Train/wrench/000156.jpg', 'ToolImages/Train/wrench/000158.jpg', 'ToolImages/Train/wrench/000159.jpg', 'ToolImages/Train/wrench/000161.jpg', 'ToolImages/Train/wrench/000162.jpg', 'ToolImages/Train/wrench/000164.jpg', 'ToolImages/Train/wrench/000168.jpg', 'ToolImages/Train/wrench/000173.jpg', 'ToolImages/Train/wrench/000174.jpg', 'ToolImages/Train/wrench/000182.jpg', 'ToolImages/Train/wrench/000185.jpg', 'ToolImages/Train/wrench/000187.jpg', 'ToolImages/Train/wrench/000193.jpg', 'ToolImages/Train/wrench/000196.jpg', 'ToolImages/Train/wrench/000200.jpg', 'ToolImages/Train/wrench/000244.jpg', 'ToolImages/Train/wrench/000245.jpg', 'ToolImages/Train/wrench/000261.jpg', 'ToolImages/Train/wrench/000324.jpg', 'ToolImages/Train/wrench/000367.jpg', 'ToolImages/Train/wrench/000383.jpg']\n"
     ]
    }
   ],
   "source": [
    "print(training_file_names)"
   ]
  },
  {
   "cell_type": "code",
   "execution_count": 6,
   "id": "411f56e1",
   "metadata": {},
   "outputs": [],
   "source": [
    "testing_data = get_data('Test')\n",
    "test_file_names = testing_data[0]\n",
    "test_tool_labels = testing_data[1]"
   ]
  },
  {
   "cell_type": "code",
   "execution_count": 7,
   "id": "5fa6752a",
   "metadata": {},
   "outputs": [
    {
     "name": "stdout",
     "output_type": "stream",
     "text": [
      "['ToolImages/Test/hammer/0000273.jpg', 'ToolImages/Test/hammer/000117.jpg', 'ToolImages/Test/hammer/000118.jpg', 'ToolImages/Test/hammer/000120.jpg', 'ToolImages/Test/hammer/000121.jpg', 'ToolImages/Test/hammer/000122.jpg', 'ToolImages/Test/hammer/000126.jpg', 'ToolImages/Test/hammer/000127.jpg', 'ToolImages/Test/hammer/000129.jpg', 'ToolImages/Test/hammer/000134.jpg', 'ToolImages/Test/hammer/000135.jpg', 'ToolImages/Test/hammer/000153.jpg', 'ToolImages/Test/hammer/000154.jpg', 'ToolImages/Test/hammer/000155.jpg', 'ToolImages/Test/hammer/000167.jpg', 'ToolImages/Test/hammer/000169.jpg', 'ToolImages/Test/hammer/000170.jpg', 'ToolImages/Test/hammer/000176.jpg', 'ToolImages/Test/hammer/000177.jpg', 'ToolImages/Test/hammer/000187.jpg', 'ToolImages/Test/hammer/000192.jpg', 'ToolImages/Test/hammer/000203.jpg', 'ToolImages/Test/hammer/000205.jpg', 'ToolImages/Test/hammer/000208.jpg', 'ToolImages/Test/hammer/000209.jpg', 'ToolImages/Test/hammer/000211.jpg', 'ToolImages/Test/hammer/000214.jpg', 'ToolImages/Test/hammer/000215.jpg', 'ToolImages/Test/hammer/000217.jpg', 'ToolImages/Test/hammer/000218.jpg', 'ToolImages/Test/hammer/000223.jpg', 'ToolImages/Test/hammer/000274.jpg', 'ToolImages/Test/pliers/000056.jpg', 'ToolImages/Test/pliers/000057.jpg', 'ToolImages/Test/pliers/000059.jpg', 'ToolImages/Test/pliers/000061.jpg', 'ToolImages/Test/pliers/000062.jpg', 'ToolImages/Test/pliers/000072.jpg', 'ToolImages/Test/pliers/000073.jpg', 'ToolImages/Test/pliers/000074.jpg', 'ToolImages/Test/pliers/000075.jpg', 'ToolImages/Test/pliers/000076.jpg', 'ToolImages/Test/pliers/000090.jpg', 'ToolImages/Test/pliers/000091.jpg', 'ToolImages/Test/pliers/000092.jpg', 'ToolImages/Test/pliers/000093.jpg', 'ToolImages/Test/pliers/000094.jpg', 'ToolImages/Test/pliers/000095.jpg', 'ToolImages/Test/pliers/000107.jpg', 'ToolImages/Test/pliers/000108.jpg', 'ToolImages/Test/pliers/000109.jpg', 'ToolImages/Test/pliers/000110.jpg', 'ToolImages/Test/pliers/000112.jpg', 'ToolImages/Test/pliers/000113.jpg', 'ToolImages/Test/pliers/000127.jpg', 'ToolImages/Test/pliers/000129.jpg', 'ToolImages/Test/pliers/000130.jpg', 'ToolImages/Test/pliers/000131.jpg', 'ToolImages/Test/pliers/000132.jpg', 'ToolImages/Test/pliers/000133.jpg', 'ToolImages/Test/pliers/000144.jpg', 'ToolImages/Test/pliers/000145.jpg', 'ToolImages/Test/pliers/000147.jpg', 'ToolImages/Test/pliers/000149.jpg', 'ToolImages/Test/screw_driver/000062.jpg', 'ToolImages/Test/screw_driver/000063.jpg', 'ToolImages/Test/screw_driver/000065.jpg', 'ToolImages/Test/screw_driver/000074.jpg', 'ToolImages/Test/screw_driver/000076.jpg', 'ToolImages/Test/screw_driver/000077.jpg', 'ToolImages/Test/screw_driver/000078.jpg', 'ToolImages/Test/screw_driver/000080.jpg', 'ToolImages/Test/screw_driver/000081.jpg', 'ToolImages/Test/screw_driver/000096.jpg', 'ToolImages/Test/screw_driver/000097.jpg', 'ToolImages/Test/screw_driver/000098.jpg', 'ToolImages/Test/screw_driver/000099.jpg', 'ToolImages/Test/screw_driver/000102.jpg', 'ToolImages/Test/screw_driver/000107.jpg', 'ToolImages/Test/screw_driver/000128.jpg', 'ToolImages/Test/screw_driver/000130.jpg', 'ToolImages/Test/screw_driver/000132.jpg', 'ToolImages/Test/screw_driver/000136.jpg', 'ToolImages/Test/screw_driver/000138.jpg', 'ToolImages/Test/screw_driver/000143.jpg', 'ToolImages/Test/screw_driver/000161.jpg', 'ToolImages/Test/screw_driver/000162.jpg', 'ToolImages/Test/screw_driver/000163.jpg', 'ToolImages/Test/screw_driver/000164.jpg', 'ToolImages/Test/screw_driver/000167.jpg', 'ToolImages/Test/screw_driver/000172.jpg', 'ToolImages/Test/screw_driver/000191.jpg', 'ToolImages/Test/screw_driver/000199.jpg', 'ToolImages/Test/screw_driver/000206.jpg', 'ToolImages/Test/screw_driver/000207.jpg', 'ToolImages/Test/screw_driver/000210.jpg', 'ToolImages/Test/wrench/000134.jpg', 'ToolImages/Test/wrench/000141.jpg', 'ToolImages/Test/wrench/000205.jpg', 'ToolImages/Test/wrench/000207.jpg', 'ToolImages/Test/wrench/000208.jpg', 'ToolImages/Test/wrench/000213.jpg', 'ToolImages/Test/wrench/000215.jpg', 'ToolImages/Test/wrench/000220.jpg', 'ToolImages/Test/wrench/000226.jpg', 'ToolImages/Test/wrench/000228.jpg', 'ToolImages/Test/wrench/000232.jpg', 'ToolImages/Test/wrench/000233.jpg', 'ToolImages/Test/wrench/000242.jpg', 'ToolImages/Test/wrench/000265.jpg', 'ToolImages/Test/wrench/000268.jpg', 'ToolImages/Test/wrench/000278.jpg', 'ToolImages/Test/wrench/000287.jpg', 'ToolImages/Test/wrench/000289.jpg', 'ToolImages/Test/wrench/000290.jpg', 'ToolImages/Test/wrench/000293.jpg', 'ToolImages/Test/wrench/000315.jpg', 'ToolImages/Test/wrench/000317.jpg', 'ToolImages/Test/wrench/000319.jpg', 'ToolImages/Test/wrench/000390.jpg', 'ToolImages/Test/wrench/000396.jpg', 'ToolImages/Test/wrench/000397.jpg', 'ToolImages/Test/wrench/000398.jpg', 'ToolImages/Test/wrench/000399.jpg', 'ToolImages/Test/wrench/000400.jpg', 'ToolImages/Test/wrench/000402.jpg', 'ToolImages/Test/wrench/000413.jpg', 'ToolImages/Test/wrench/000417.jpg']\n"
     ]
    }
   ],
   "source": [
    "print(test_file_names)"
   ]
  },
  {
   "cell_type": "code",
   "execution_count": 11,
   "id": "d8eb387f",
   "metadata": {},
   "outputs": [],
   "source": [
    "dictionary_name = 'tool'\n",
    "dictionary = Dictionary(dictionary_name, training_file_names)"
   ]
  },
  {
   "cell_type": "code",
   "execution_count": 12,
   "id": "51c76764",
   "metadata": {},
   "outputs": [
    {
     "ename": "AttributeError",
     "evalue": "module 'cv2' has no attribute 'xfeatures2d'",
     "output_type": "error",
     "traceback": [
      "\u001b[1;31m---------------------------------------------------------------------------\u001b[0m",
      "\u001b[1;31mAttributeError\u001b[0m                            Traceback (most recent call last)",
      "Input \u001b[1;32mIn [12]\u001b[0m, in \u001b[0;36m<cell line: 1>\u001b[1;34m()\u001b[0m\n\u001b[1;32m----> 1\u001b[0m \u001b[43mdictionary\u001b[49m\u001b[38;5;241;43m.\u001b[39;49m\u001b[43melbow\u001b[49m\u001b[43m(\u001b[49m\u001b[43m)\u001b[49m\n",
      "Input \u001b[1;32mIn [10]\u001b[0m, in \u001b[0;36mDictionary.elbow\u001b[1;34m(self)\u001b[0m\n\u001b[0;32m      9\u001b[0m \u001b[38;5;28;01mdef\u001b[39;00m \u001b[38;5;21melbow\u001b[39m(\u001b[38;5;28mself\u001b[39m):\n\u001b[1;32m---> 10\u001b[0m     sift \u001b[38;5;241m=\u001b[39m \u001b[43mcv\u001b[49m\u001b[38;5;241;43m.\u001b[39;49m\u001b[43mxfeatures2d\u001b[49m\u001b[38;5;241m.\u001b[39mSIFT_create()\n\u001b[0;32m     12\u001b[0m     num_keypoints \u001b[38;5;241m=\u001b[39m [] \u001b[38;5;66;03m# this is used to store the number of keypoints in each image\u001b[39;00m\n\u001b[0;32m     13\u001b[0m     training_data \u001b[38;5;241m=\u001b[39m []\n",
      "\u001b[1;31mAttributeError\u001b[0m: module 'cv2' has no attribute 'xfeatures2d'"
     ]
    }
   ],
   "source": [
    "dictionary.elbow()"
   ]
  },
  {
   "cell_type": "code",
   "execution_count": null,
   "id": "8fa61786",
   "metadata": {},
   "outputs": [],
   "source": []
  }
 ],
 "metadata": {
  "kernelspec": {
   "display_name": "Python 3 (ipykernel)",
   "language": "python",
   "name": "python3"
  },
  "language_info": {
   "codemirror_mode": {
    "name": "ipython",
    "version": 3
   },
   "file_extension": ".py",
   "mimetype": "text/x-python",
   "name": "python",
   "nbconvert_exporter": "python",
   "pygments_lexer": "ipython3",
   "version": "3.10.4"
  }
 },
 "nbformat": 4,
 "nbformat_minor": 5
}
