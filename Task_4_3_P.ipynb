{
 "cells": [
  {
   "cell_type": "markdown",
   "id": "b3b3ea0e",
   "metadata": {},
   "source": [
    "### Load libraries"
   ]
  },
  {
   "cell_type": "code",
   "execution_count": null,
   "id": "560ded3c",
   "metadata": {},
   "outputs": [],
   "source": [
    "import numpy as np\n",
    "import cv2 as cv\n",
    "from sklearn.cluster import KMeans\n",
    "from sklearn.metrics import classification_report,confusion_matrix\n",
    "import matplotlib. pyplot as plt"
   ]
  },
  {
   "cell_type": "markdown",
   "id": "b138388d",
   "metadata": {},
   "source": [
    "### BoW Model"
   ]
  },
  {
   "cell_type": "code",
   "execution_count": null,
   "id": "25e9dd41",
   "metadata": {},
   "outputs": [],
   "source": [
    "class Dictionary(object):\n",
    "    def __init__(self, name, img_filenames):\n",
    "        self.name = name # name of your dictionary\n",
    "        self.img_filenames = img_filenames # list of image filenames\n",
    "        # self.num_words = num_words # the number of words\n",
    "        self.training_data = [] # this is the training data required by the K-Means algorithm\n",
    "        self.words = [] # list of words, which are the centroids of clusters\n",
    "        \n",
    "    def elbow(self):\n",
    "        sift = cv.xfeatures2d.SIFT_create()\n",
    "\n",
    "        num_keypoints = [] # this is used to store the number of keypoints in each image\n",
    "        training_data = []\n",
    "\n",
    "        # load training images and compute SIFT descriptors\n",
    "        for filename in self.img_filenames:\n",
    "            img = cv.imread(filename)\n",
    "            img_gray = cv.cvtColor(img, cv.COLOR_BGR2GRAY)\n",
    "            list_des = sift.detectAndCompute(img_gray, None)[1]\n",
    "            if list_des is None:\n",
    "                num_keypoints.append(0)\n",
    "            else:\n",
    "                num_keypoints.append(len(list_des))\n",
    "                for des in list_des:\n",
    "                    training_data.append(des)\n",
    "                    \n",
    "        Sum_of_squared_distances = []\n",
    "        K = [30, 45, 50, 60, 70, 80, 90, 100, 125, 150, 175, 200, 225, 250, 275, 300, 325, 350, 375, 400, 425, 450, 475, 500]\n",
    "        for k in K:\n",
    "            km = KMeans(n_clusters=k)\n",
    "            km = km.fit(training_data)\n",
    "            Sum_of_squared_distances.append(km.inertia_)\n",
    "\n",
    "        plt.plot(K, Sum_of_squared_distances, 'bx-')\n",
    "        plt.xlabel('k')\n",
    "        plt.ylabel('Sum of squared distances')\n",
    "        plt.title('Elbow Method For Optimal k')\n",
    "        plt.show()\n",
    "\n",
    "    def learn(self, num_words):\n",
    "        sift = cv.xfeatures2d.SIFT_create()\n",
    "\n",
    "        num_keypoints = [] # this is used to store the number of keypoints in each image\n",
    "\n",
    "        # load training images and compute SIFT descriptors\n",
    "        for filename in self.img_filenames:\n",
    "            img = cv.imread(filename)\n",
    "            img_gray = cv.cvtColor(img, cv.COLOR_BGR2GRAY)\n",
    "            list_des = sift.detectAndCompute(img_gray, None)[1]\n",
    "            if list_des is None:\n",
    "                num_keypoints.append(0)\n",
    "            else:\n",
    "                num_keypoints.append(len(list_des))\n",
    "                for des in list_des:\n",
    "                    self.training_data.append(des)\n",
    "\n",
    "        # cluster SIFT descriptors using K-means algorithm\n",
    "        kmeans = KMeans(num_words)\n",
    "        kmeans.fit(self.training_data)\n",
    "        self.words = kmeans.cluster_centers_\n",
    "\n",
    "        # create word histograms for training images\n",
    "        training_word_histograms = [] #list of word histograms of all training images\n",
    "        index = 0\n",
    "        for i in range(0, len(self.img_filenames)):\n",
    "            # for each file, create a histogram\n",
    "            histogram = np.zeros(num_words, np.float32)\n",
    "            # if some keypoints exist\n",
    "            if num_keypoints[i] > 0:\n",
    "                for j in range(0, num_keypoints[i]):\n",
    "                    histogram[kmeans.labels_[j + index]] += 1\n",
    "                index += num_keypoints[i]\n",
    "                histogram /= num_keypoints[i]\n",
    "                training_word_histograms.append(histogram)\n",
    "\n",
    "        return training_word_histograms\n",
    "\n",
    "    def create_word_histograms(self, img_filenames, num_words):\n",
    "        sift = cv.xfeatures2d.SIFT_create()\n",
    "        histograms = []\n",
    "\n",
    "        for filename in img_filenames:\n",
    "            img = cv.imread(filename)\n",
    "            img_gray = cv.cvtColor(img, cv.COLOR_BGR2GRAY)\n",
    "            descriptors = sift.detectAndCompute(img_gray, None)[1]\n",
    "            histogram = np.zeros(num_words, np.float32) # word histogram for the input image\n",
    "\n",
    "            if descriptors is not None:\n",
    "                for des in descriptors:\n",
    "                    # find the best matching word\n",
    "                    min_distance = 1111111 # this can be any large number\n",
    "                    matching_word_ID = -1 # initial matching_word_ID=-1 means no matching\n",
    "\n",
    "                    for i in range(0, num_words): #search for the best matching word\n",
    "                        distance = np.linalg.norm(des - self.words[i])\n",
    "                        if distance < min_distance:\n",
    "                            min_distance = distance\n",
    "                            matching_word_ID = i\n",
    "                    histogram[matching_word_ID] += 1\n",
    "                histogram /= len(descriptors) #normalise histogram to frequencies\n",
    "            histograms.append(histogram)\n",
    "        return histograms"
   ]
  },
  {
   "cell_type": "markdown",
   "id": "cadcf6e2",
   "metadata": {},
   "source": [
    "### Loading Data "
   ]
  },
  {
   "cell_type": "code",
   "execution_count": null,
   "id": "f1c5697f",
   "metadata": {},
   "outputs": [],
   "source": [
    "import os\n",
    "\n",
    "tools = ['hammer', 'pliers', 'screw_driver', 'wrench']\n",
    "path = 'ToolImages/'\n",
    "\n",
    "def get_data(dir_name):\n",
    "    file_names = []\n",
    "    tool_labels = []\n",
    "    for i in range(0, len(tools)):\n",
    "        sub_path = path + dir_name + '/' + tools[i] + '/'\n",
    "        sub_file_names = [os.path.join(sub_path, f) for f in os.listdir(sub_path)]\n",
    "        sub_tool_labels = [i] * len(sub_file_names) #create a list of N elements, all are i\n",
    "        file_names += sub_file_names\n",
    "        tool_labels += sub_tool_labels\n",
    "    return (file_names, tool_labels)"
   ]
  },
  {
   "cell_type": "code",
   "execution_count": null,
   "id": "9f5d327a",
   "metadata": {},
   "outputs": [],
   "source": [
    "training_data = get_data('Train')\n",
    "training_file_names = training_data[0]\n",
    "training_tool_labels = training_data[1]"
   ]
  },
  {
   "cell_type": "code",
   "execution_count": null,
   "id": "14cc06f5",
   "metadata": {},
   "outputs": [],
   "source": [
    "print(training_file_names)"
   ]
  },
  {
   "cell_type": "code",
   "execution_count": null,
   "id": "411f56e1",
   "metadata": {},
   "outputs": [],
   "source": [
    "testing_data = get_data('Test')\n",
    "test_file_names = testing_data[0]\n",
    "test_tool_labels = testing_data[1]"
   ]
  },
  {
   "cell_type": "code",
   "execution_count": null,
   "id": "5fa6752a",
   "metadata": {},
   "outputs": [],
   "source": [
    "print(test_file_names)"
   ]
  },
  {
   "cell_type": "code",
   "execution_count": null,
   "id": "4abcd668",
   "metadata": {},
   "outputs": [],
   "source": [
    "dictionary_name = 'tool'\n",
    "dictionary = Dictionary(dictionary_name, training_file_names)"
   ]
  },
  {
   "cell_type": "markdown",
   "id": "399ae294",
   "metadata": {},
   "source": [
    "### Elbow Method"
   ]
  },
  {
   "cell_type": "code",
   "execution_count": null,
   "id": "51c76764",
   "metadata": {},
   "outputs": [],
   "source": [
    "dictionary.elbow()"
   ]
  },
  {
   "cell_type": "code",
   "execution_count": null,
   "id": "8fa61786",
   "metadata": {},
   "outputs": [],
   "source": []
  }
 ],
 "metadata": {
  "kernelspec": {
   "display_name": "Python 3 (ipykernel)",
   "language": "python",
   "name": "python3"
  },
  "language_info": {
   "codemirror_mode": {
    "name": "ipython",
    "version": 3
   },
   "file_extension": ".py",
   "mimetype": "text/x-python",
   "name": "python",
   "nbconvert_exporter": "python",
   "pygments_lexer": "ipython3",
   "version": "3.10.4"
  }
 },
 "nbformat": 4,
 "nbformat_minor": 5
}
